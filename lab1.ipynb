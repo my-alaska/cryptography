{
 "cells": [
  {
   "cell_type": "markdown",
   "metadata": {},
   "source": [
    "# Kryptografia klasyczna (od starożytności do czasów współczesnych)\n",
    "### Literatura:\n",
    "1. Księga szyfrów, Simon Singh, Świat książki, 2001\n",
    "2. Łamacze kodów, David Kahn, WNT, 2004"
   ]
  },
  {
   "cell_type": "markdown",
   "metadata": {},
   "source": [
    "## Szyfr Cezara\n",
    "--------------\n",
    "Szyfr Cezara oczywiście nie zawdzięcza swego istnienia Juliuszowi Cezarowi. Został przezeń jedynie wspomniany w pamiętnikach o wojnach galijskich. Prawdopodobnie była to dobrze znana metoda w tym czasie."
   ]
  },
  {
   "cell_type": "code",
   "execution_count": 1,
   "metadata": {},
   "outputs": [
    {
     "name": "stdout",
     "output_type": "stream",
     "text": [
      "Tekst jawny:  Zorro fly zealotry zipper\n",
      "Szyfrogram:  odggduanotpadignoxeetg (spacje usunięte)\n",
      "Odszyfrowana wiadomość:  zorroflyzealotryzipper (spacje usunięte)\n"
     ]
    }
   ],
   "source": [
    "# Alfabet jawny i szyfrowy \n",
    "alphabets = ['a','b', 'c', 'd', 'e', 'f', 'g', 'h', 'i', 'j', 'k', 'l', 'm', 'n', 'o', 'p',\n",
    "            'q', 'r', 's', 't', 'u', 'v', 'w', 'x', 'y', 'z']\n",
    "\n",
    "alphabet_size = 26\n",
    "\n",
    "plaintext = \"Zorro fly zealotry zipper\"\n",
    "\n",
    "ciphertext = \"\"\n",
    "\n",
    "key = 15 #przesunięcie permutacji czyli klucz szyfrowania \n",
    "\n",
    "print(\"Tekst jawny: \", plaintext)\n",
    "\n",
    "for text in plaintext.lower().split():\n",
    "    for char in text:\n",
    "        ciphertext = ciphertext + alphabets[(alphabets.index(char) + key) % alphabet_size] \n",
    "print(\"Szyfrogram: \",  ciphertext, \"(spacje usunięte)\")\n",
    "\n",
    "decodedtext = \"\"\n",
    "for text in ciphertext:\n",
    "    for char in text:\n",
    "        decodedtext = decodedtext + alphabets[(alphabets.index(char)- key) % alphabet_size]\n",
    "print(\"Odszyfrowana wiadomość: \",  decodedtext,  \"(spacje usunięte)\")"
   ]
  },
  {
   "cell_type": "markdown",
   "metadata": {},
   "source": [
    "## Szyfr monoalfabetyczny: \n",
    "_danemu symbolowi alfabetu jawnego odpowiada dokładnie jeden i ten sam symbol alfabetu tajnego._"
   ]
  },
  {
   "cell_type": "markdown",
   "metadata": {},
   "source": [
    "### Zastanów się:\n",
    "1. Czy szyfr Cezara jest łatwy do złamania? Ile prób (testów przesunięć) trzeba aby złamać szyfr Cezara?\n",
    "2. Co to jest atak siłowy (__brute force__)?  \n",
    "3. Zaproponuj i zaimplementuj wariant szyfru Cezara, która wymaga wykonania większej liczby prób podczas ataku?  \n",
    "4. Oceń koszt ataku na ten wariant Cezara."
   ]
  },
  {
   "cell_type": "markdown",
   "metadata": {},
   "source": [
    "### Zadanie samodzielne dla studentów\n",
    "1. Napisz ,,ulepszony szyfr Cezara'' czyli monoalfabetyczny szyfr z tajną pemutacją alfabetu szufrowego\n",
    "2. Można wykorzystać funkcję random.permutation() z biblioteki numpy"
   ]
  },
  {
   "cell_type": "code",
   "execution_count": 20,
   "metadata": {},
   "outputs": [
    {
     "name": "stdout",
     "output_type": "stream",
     "text": [
      "Tekst jawny:  Zorro fly zealotry zipper\n",
      "Szyfrogram:  ugttgmwyufowghtyukeeft (spacje usunięte)\n",
      "Odszyfrowana wiadomość:  zorroflyzealotryzipper (spacje usunięte)\n"
     ]
    }
   ],
   "source": [
    "# lepszy Cezar\n",
    "\n",
    "import numpy as np\n",
    "plaintext = \"Zorro fly zealotry zipper\"\n",
    "\n",
    "ciphertext = \"\"\n",
    "\n",
    "print(\"Tekst jawny: \", plaintext)\n",
    "\n",
    "\n",
    "\n",
    "text_for_encoding = plaintext.replace(\" \",\"\")\n",
    "\n",
    "key = np.random.permutation(range(0,26))\n",
    "\n",
    "i = 0\n",
    "for text in plaintext.lower().split():\n",
    "    for char in text:\n",
    "        ciphertext = ciphertext + alphabets[key[alphabets.index(char)] ] \n",
    "        i+=1\n",
    "\n",
    "print(\"Szyfrogram: \",  ciphertext, \"(spacje usunięte)\")\n",
    "\n",
    "\n",
    "\n",
    "\n",
    "decodedtext = \"\"\n",
    "i=0\n",
    "for text in ciphertext:\n",
    "    for char in text:\n",
    "        decodedtext = decodedtext  + alphabets[np.where(key == alphabets.index(char))[0][0]]\n",
    "        i+=1\n",
    "\n",
    "\n",
    "print(\"Odszyfrowana wiadomość: \",  decodedtext,  \"(spacje usunięte)\")\n"
   ]
  },
  {
   "cell_type": "markdown",
   "metadata": {},
   "source": [
    "## Kryptoanaliza szyfrów monoalfabetycznych\n",
    "\n",
    "Współcześnie kryptoanaliza szyfru Cezara jest trywialna. Można po prostu sprawdzić wszystkie 26 możliwych przesunięć. \n",
    "\n",
    "Szyfry monoalfabetyczne nie są także odporne na __kryptoanalizę statystyczną__. Znając rozkład częstości liter w tekstach napisanych w danym języku możemy odgadnąć przesunięcie obserwując minima i maxima w histogramach. \n",
    "\n",
    "W zasadzie kluczową sprawą w obu przypadkach jest znajomość języka, a w gruncie rzeczy alfabetu. "
   ]
  },
  {
   "cell_type": "markdown",
   "metadata": {},
   "source": [
    "### Zadanie samodzielne dla studentów\n",
    "1. Narysuj rozkład częstości występowania liter w języku angielskim (kod rysowania histogramu poniżej)"
   ]
  },
  {
   "cell_type": "code",
   "execution_count": 3,
   "metadata": {},
   "outputs": [
    {
     "data": {
      "image/png": "[encoded data removed]",
      "text/plain": [
       "<Figure size 1080x648 with 1 Axes>"
      ]
     },
     "metadata": {
      "needs_background": "light"
     },
     "output_type": "display_data"
    }
   ],
   "source": [
    "from matplotlib import pyplot as plt\n",
    "import numpy as np\n",
    "\n",
    "letters =   ['a',  'b',    'c',   'd',  'e',   'f',   'g',   'h',   'i',   'j',   'k',   'l',    'm',  'n',   'o',   'p',    'q',  'r',   's',   't',   'u',   'v',   'w',   'x',    'y',   'z']\n",
    "frequency = [0.080, 0.015, 0.030, 0.040, 0.130, 0.020, 0.015, 0.060, 0.065, 0.005, 0.005, 0.035, 0.030, 0.070, 0.080, 0.020, 0.002, 0.065, 0.060, 0.090, 0.030, 0.010, 0.015, 0.005, 0.020, 0.002]\n",
    "labels = np.arange(len(letters))\n",
    "plt.figure(figsize=(15,9))\n",
    "plt.bar(labels, frequency, alpha=0.5, edgecolor=\"green\")\n",
    "plt.xlabel('Alfabet')\n",
    "plt.xticks(np.arange(26), ('a','b', 'c', 'd', 'e', 'f', 'g', 'h', 'i', 'j', 'k', 'l', 'm', 'n', 'o', 'p', 'q', 'r', 's', 't', 'u', 'v', 'w', 'x', 'y', 'z'))\n",
    "plt.title(\"Język angielski\");\n",
    "plt.ylabel('Częstość występowania')\n",
    "plt.show()"
   ]
  },
  {
   "cell_type": "markdown",
   "metadata": {},
   "source": [
    "2. Dokonaj analizy częstości występowania liter w tekście jawnym i szyfrogramie (szyfr Cezara z dowolnym przesunięciem) dla tekstu w poniższym fragmencie kodu. Wyświetl wyniki podobnie jak powyżej. \n",
    "3. Dokonaj analizy częstości występowania liter w szyfrogramie wygenerowanym przez \"ulepszonego Cezara\""
   ]
  },
  {
   "cell_type": "code",
   "execution_count": 4,
   "metadata": {
    "scrolled": false
   },
   "outputs": [
    {
     "data": {
      "image/png": "[encoded data removed]",
      "text/plain": [
       "<Figure size 1080x648 with 1 Axes>"
      ]
     },
     "metadata": {
      "needs_background": "light"
     },
     "output_type": "display_data"
    }
   ],
   "source": [
    "import numpy as np\n",
    "from matplotlib import pyplot as plt\n",
    "\n",
    "plaintext = \"TobeornottobethatisthequestionWhethertisNoblerinthemindtosufferTheSlingsandArrowsofoutrageousFortuneOrtotakeArmsagainstaSeaoftroublesAndbyopposingendthem\"\n",
    "\n",
    "Alphabet = [\n",
    "    'a','b','c','d','e','f','g','h','i','j','k','l','m',\n",
    "    'n','o','p','q','r','s','t','u','v','w','x','y','z'\n",
    "]\n",
    "\n",
    "indexes = {}\n",
    "\n",
    "for i, letter in enumerate(Alphabet):\n",
    "    indexes[letter] = i\n",
    "    \n",
    "frequencies = [0 for i in range(len(Alphabet))]\n",
    "\n",
    "for letter in plaintext.lower():\n",
    "    frequencies[indexes[letter]]+=1\n",
    "    \n",
    "for i, f in enumerate(frequencies):\n",
    "    frequencies[i] = f/len(plaintext)\n",
    "    \n",
    "labels = np.arange(len(letters))\n",
    "plt.figure(figsize=(15,9))\n",
    "plt.bar(labels, frequencies, alpha=0.5, edgecolor=\"green\")\n",
    "plt.xlabel('Alfabet')\n",
    "plt.xticks(np.arange(26), Alphabet)\n",
    "plt.title(\"Język angielski\");\n",
    "plt.ylabel('Częstość występowania')\n",
    "plt.show() "
   ]
  },
  {
   "cell_type": "markdown",
   "metadata": {},
   "source": [
    "### Ciekawostka: \n",
    "Automatyczna kryptoanaliza tekst zaszyfrowanego zwykłym Cezarem"
   ]
  },
  {
   "cell_type": "code",
   "execution_count": 6,
   "metadata": {},
   "outputs": [
    {
     "name": "stdout",
     "output_type": "stream",
     "text": [
      "Requirement already satisfied: nltk in c:\\users\\piotr\\anaconda3\\envs\\py10\\lib\\site-packages (3.7)\n",
      "Requirement already satisfied: tqdm in c:\\users\\piotr\\anaconda3\\envs\\py10\\lib\\site-packages (from nltk) (4.64.0)\n",
      "Requirement already satisfied: click in c:\\users\\piotr\\anaconda3\\envs\\py10\\lib\\site-packages (from nltk) (8.1.3)\n",
      "Requirement already satisfied: regex>=2021.8.3 in c:\\users\\piotr\\anaconda3\\envs\\py10\\lib\\site-packages (from nltk) (2022.3.15)\n",
      "Requirement already satisfied: joblib in c:\\users\\piotr\\anaconda3\\envs\\py10\\lib\\site-packages (from nltk) (1.1.0)\n",
      "Requirement already satisfied: colorama in c:\\users\\piotr\\anaconda3\\envs\\py10\\lib\\site-packages (from click->nltk) (0.4.4)\n"
     ]
    },
    {
     "name": "stderr",
     "output_type": "stream",
     "text": [
      "[nltk_data] Downloading package words to\n",
      "[nltk_data]     C:\\Users\\Piotr\\AppData\\Roaming\\nltk_data...\n",
      "[nltk_data]   Package words is already up-to-date!\n"
     ]
    },
    {
     "name": "stdout",
     "output_type": "stream",
     "text": [
      "Próba klucza:  25  .... pehhe\n",
      "Próba klucza:  10  .... etwwt\n",
      "Próba klucza:  2  .... mbeeb\n",
      "Próba klucza:  15  .... zorro\n",
      "\n",
      " Decoded string:  zorro\n"
     ]
    }
   ],
   "source": [
    "!pip install nltk \n",
    "import nltk\n",
    "nltk.download('words')\n",
    "from nltk.corpus import words\n",
    "\n",
    "\n",
    "unique = []\n",
    "frequency = []\n",
    "psi = []\n",
    "key = 0\n",
    "value = 0.0\n",
    "exit = True\n",
    "\n",
    "ciphertext = \"odggd\".lower()\n",
    "\n",
    "alphabets = \"abcdefghijklmnopqrstuvwxyz\"\n",
    "\n",
    "english_frequency_prob = [0.080, 0.015, 0.030, 0.040, 0.130, 0.020, 0.015, 0.060, 0.065, 0.005, \n",
    "                          0.005, 0.035, 0.030, 0.070, 0.080, 0.020, 0.002, 0.065, 0.060, 0.090, \n",
    "                          0.030, 0.010, 0.015, 0.005, 0.020, 0.002]\n",
    "\n",
    "\n",
    "\n",
    "for char in ciphertext: #lista liter w szyfrogramie\n",
    "    if (char not in unique) and (char.isalpha()):\n",
    "        unique.append(char)\n",
    "        \n",
    "only_alphabets = [char for char in ciphertext if char.isalpha()]  #tylko litery\n",
    "\n",
    "for unique_char in unique: #częstość liter w tekście \n",
    "     frequency.append(ciphertext.count(unique_char) / (float)(len(only_alphabets)))\n",
    "\n",
    "for i in range(0,26): #oblicz dopasowanie\n",
    "    for unique_char in unique:\n",
    "         value = value + frequency[unique.index(unique_char)] * english_frequency_prob[alphabets.index(unique_char) - i]\n",
    "    psi.append(value)  \n",
    "    value = 0.0\n",
    "    \n",
    "sorted_psi = psi[:] # sortuj dopasowanie\n",
    "sorted_psi.sort(reverse=True)\n",
    "\n",
    "decoded_string = \"\"\n",
    "for i in range(0, 26):\n",
    "    key = psi.index(sorted_psi[i])\n",
    "    decoded_string = \"\"\n",
    "    for char in ciphertext:\n",
    "        if (char != ' '):\n",
    "            decoded_string = decoded_string + alphabets[alphabets.index(char) - key]\n",
    "        else:\n",
    "            decoded_string = decoded_string + \" \"\n",
    "            \n",
    "    print(\"Próba klucza: \", key, \" ....\", decoded_string)\n",
    "    \n",
    "    for word in decoded_string.split():\n",
    "        if word not in words.words(): #czy szyfrowanie ma sens\n",
    "            exit = False\n",
    "        else:\n",
    "            exit = True\n",
    "    if exit:\n",
    "        break\n",
    "        \n",
    "print(\"\\n\", \"Decoded string: \", decoded_string)"
   ]
  },
  {
   "cell_type": "markdown",
   "metadata": {},
   "source": [
    "## Podsumowanie \n",
    "Główną słabością szyfrów monoalfabetycznych jest stałość przekształcenia, dzięki czemu możliwe jest łatwe zaobserwowanie regularności.\n",
    "\n",
    "Rozwiązaniem może być zmiana alfabetów w trakcie szyfrowania. Dla uproszczenia wystarczy zmieniać jedynie porządek liter. \n",
    "\n",
    "### Zadanie samodzielne dla studentów\n",
    "1. Napisać program, który zmienia alfabet szyfrowania po każdej literze.\n",
    "_Co będzie potrzebne oprócz tekst jawnego?_\n",
    "2. Dokonaj analizy częstościowej szyfrogramu zaszyfrowanego szyfrem Vigenera\n"
   ]
  },
  {
   "cell_type": "code",
   "execution_count": 7,
   "metadata": {},
   "outputs": [
    {
     "name": "stdout",
     "output_type": "stream",
     "text": [
      "tobeornottobethatisthequestionwhethertisnoblerinthemindtosuffertheslingsandarrowsofoutrageousfortuneortotakearmsagainstaseaoftroublesandbyopposingendthem\n"
     ]
    }
   ],
   "source": [
    "plaintext = \"TobeornottobethatisthequestionWhethertisNoblerinthemindtosufferTheSlingsandArrowsofoutrageousFortuneOrtotakeArmsagainstaSeaoftroublesAndbyopposingendthem\"\n",
    "key = \"klucz\"\n",
    "\n",
    "ciphertext = \"\"\n",
    "\n",
    "i = 0\n",
    "for letter in plaintext.lower():\n",
    "    ciphertext = ciphertext + alphabets[(alphabets.index(letter) + alphabets.index(key[i]) ) % alphabet_size ]\n",
    "    i = (i+1)%len(key)\n",
    "    \n",
    "    \n",
    "    \n",
    "decodedtext = \"\"\n",
    "    \n",
    "i = 0\n",
    "for letter in ciphertext:    \n",
    "    decodedtext = decodedtext + alphabets[(alphabets.index(letter)- alphabets.index(key[i])) % alphabet_size]\n",
    "    i = (i+1)%len(key)\n",
    "\n",
    "print(decodedtext)"
   ]
  },
  {
   "cell_type": "markdown",
   "metadata": {},
   "source": [
    "### Zastanów się:\n",
    "1. Sprawdź jak wygląda histogram szyfrogrami. \n",
    "2. Zastanów się jakie znaczenia ma długość klucza dla bezpieczeństwa szyfrowania.\n",
    "3. Czy powtarzanie klucza można wykorzystać dla potrzeb kryptoanalizy? \n",
    "4. Jaki klucz gwarantowałby bezpieczeństwo?\n",
    "5. Jaki rozkład częstości symboli szyfrogramu nie ujawni żadnych przydatnych danych kryptoanalitykowi? \n",
    "\n",
    "### Szyfr polialfabetyczny \n",
    "_Szyfr używający wielu alfabetów szyfrowych. W trakcie szyfrowania te same litery w tekście jawnym_\n",
    "\n",
    "### Szyfr doskonały (według Clouda Shannona):\n",
    "1. Jakie warunki musi spełniać szyfr-nie-do-złamania? \n",
    "\n",
    "Odp: jednorazowy klucz musi być dłuższy niż szyfrowana wiadomość"
   ]
  },
  {
   "cell_type": "markdown",
   "metadata": {},
   "source": [
    "## Zadanie (dodatkowe, na ocenę)\n",
    "1. Napisz notebook jupyter, które implementuje klasyczne szyfry mechaniczne: Enigma, szyfr Playfair, szyfr maszyny Lorenza. W sieci można łatwo znaleźć gotowe kody, wiec przy ocenie zwracam uwagę no dokładne omówienie kodu, przejrzystość, komentarze etc. "
   ]
  },
  {
   "cell_type": "code",
   "execution_count": null,
   "metadata": {},
   "outputs": [],
   "source": []
  }
 ],
 "metadata": {
  "kernelspec": {
   "display_name": "Python 3 (ipykernel)",
   "language": "python",
   "name": "python3"
  },
  "language_info": {
   "codemirror_mode": {
    "name": "ipython",
    "version": 3
   },
   "file_extension": ".py",
   "mimetype": "text/x-python",
   "name": "python",
   "nbconvert_exporter": "python",
   "pygments_lexer": "ipython3",
   "version": "3.10.4"
  }
 },
 "nbformat": 4,
 "nbformat_minor": 1
}
